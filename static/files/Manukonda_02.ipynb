{
 "cells": [
  {
   "cell_type": "markdown",
   "metadata": {},
   "source": [
    "# FALL 2020 -> CSE 5334 -> Data Minning\n",
    "## Assignment 2\n",
    "### Name:  Tirumala Manukonda (UTA ID# 1001662386)"
   ]
  },
  {
   "cell_type": "markdown",
   "metadata": {},
   "source": [
    "#### Assignment is to learn about the kNN.\n",
    "\n",
    "__Summary__:\n",
    "\n",
    "-  This assignment is about implementation of KNN algorithm with the hyper parameters K values =1,3,5,7 and distance metrics = euclidean distance , euclidean distance and cosine distance\n",
    "-  Split the data of IRIS into Train ,Development and Test sets\n",
    "-  Find the optimal parameters using development data set and plot them using barchart for the given hyperparameters\n",
    "-  Analyse the graph and get optimal hyperparameters, and from the hyperparameters getting the Final accuracy of test-set"
   ]
  },
  {
   "cell_type": "code",
   "execution_count": 722,
   "metadata": {},
   "outputs": [],
   "source": [
    "import pandas as pd\n",
    "import numpy as np\n",
    "import math\n",
    "from collections import Counter\n",
    "from random import seed\n",
    "from random import randrange\n",
    "import matplotlib\n",
    "import matplotlib.pyplot as plt"
   ]
  },
  {
   "cell_type": "code",
   "execution_count": 723,
   "metadata": {},
   "outputs": [
    {
     "data": {
      "text/html": [
       "<div>\n",
       "<style scoped>\n",
       "    .dataframe tbody tr th:only-of-type {\n",
       "        vertical-align: middle;\n",
       "    }\n",
       "\n",
       "    .dataframe tbody tr th {\n",
       "        vertical-align: top;\n",
       "    }\n",
       "\n",
       "    .dataframe thead th {\n",
       "        text-align: right;\n",
       "    }\n",
       "</style>\n",
       "<table border=\"1\" class=\"dataframe\">\n",
       "  <thead>\n",
       "    <tr style=\"text-align: right;\">\n",
       "      <th></th>\n",
       "      <th>Id</th>\n",
       "      <th>SepalLengthCm</th>\n",
       "      <th>SepalWidthCm</th>\n",
       "      <th>PetalLengthCm</th>\n",
       "      <th>PetalWidthCm</th>\n",
       "      <th>Species</th>\n",
       "    </tr>\n",
       "  </thead>\n",
       "  <tbody>\n",
       "    <tr>\n",
       "      <th>0</th>\n",
       "      <td>1</td>\n",
       "      <td>5.1</td>\n",
       "      <td>3.5</td>\n",
       "      <td>1.4</td>\n",
       "      <td>0.2</td>\n",
       "      <td>Iris-setosa</td>\n",
       "    </tr>\n",
       "    <tr>\n",
       "      <th>1</th>\n",
       "      <td>2</td>\n",
       "      <td>4.9</td>\n",
       "      <td>3.0</td>\n",
       "      <td>1.4</td>\n",
       "      <td>0.2</td>\n",
       "      <td>Iris-setosa</td>\n",
       "    </tr>\n",
       "    <tr>\n",
       "      <th>2</th>\n",
       "      <td>3</td>\n",
       "      <td>4.7</td>\n",
       "      <td>3.2</td>\n",
       "      <td>1.3</td>\n",
       "      <td>0.2</td>\n",
       "      <td>Iris-setosa</td>\n",
       "    </tr>\n",
       "    <tr>\n",
       "      <th>3</th>\n",
       "      <td>4</td>\n",
       "      <td>4.6</td>\n",
       "      <td>3.1</td>\n",
       "      <td>1.5</td>\n",
       "      <td>0.2</td>\n",
       "      <td>Iris-setosa</td>\n",
       "    </tr>\n",
       "    <tr>\n",
       "      <th>4</th>\n",
       "      <td>5</td>\n",
       "      <td>5.0</td>\n",
       "      <td>3.6</td>\n",
       "      <td>1.4</td>\n",
       "      <td>0.2</td>\n",
       "      <td>Iris-setosa</td>\n",
       "    </tr>\n",
       "    <tr>\n",
       "      <th>5</th>\n",
       "      <td>6</td>\n",
       "      <td>5.4</td>\n",
       "      <td>3.9</td>\n",
       "      <td>1.7</td>\n",
       "      <td>0.4</td>\n",
       "      <td>Iris-setosa</td>\n",
       "    </tr>\n",
       "    <tr>\n",
       "      <th>6</th>\n",
       "      <td>7</td>\n",
       "      <td>4.6</td>\n",
       "      <td>3.4</td>\n",
       "      <td>1.4</td>\n",
       "      <td>0.3</td>\n",
       "      <td>Iris-setosa</td>\n",
       "    </tr>\n",
       "    <tr>\n",
       "      <th>7</th>\n",
       "      <td>8</td>\n",
       "      <td>5.0</td>\n",
       "      <td>3.4</td>\n",
       "      <td>1.5</td>\n",
       "      <td>0.2</td>\n",
       "      <td>Iris-setosa</td>\n",
       "    </tr>\n",
       "    <tr>\n",
       "      <th>8</th>\n",
       "      <td>9</td>\n",
       "      <td>4.4</td>\n",
       "      <td>2.9</td>\n",
       "      <td>1.4</td>\n",
       "      <td>0.2</td>\n",
       "      <td>Iris-setosa</td>\n",
       "    </tr>\n",
       "    <tr>\n",
       "      <th>9</th>\n",
       "      <td>10</td>\n",
       "      <td>4.9</td>\n",
       "      <td>3.1</td>\n",
       "      <td>1.5</td>\n",
       "      <td>0.1</td>\n",
       "      <td>Iris-setosa</td>\n",
       "    </tr>\n",
       "  </tbody>\n",
       "</table>\n",
       "</div>"
      ],
      "text/plain": [
       "   Id  SepalLengthCm  SepalWidthCm  PetalLengthCm  PetalWidthCm      Species\n",
       "0   1            5.1           3.5            1.4           0.2  Iris-setosa\n",
       "1   2            4.9           3.0            1.4           0.2  Iris-setosa\n",
       "2   3            4.7           3.2            1.3           0.2  Iris-setosa\n",
       "3   4            4.6           3.1            1.5           0.2  Iris-setosa\n",
       "4   5            5.0           3.6            1.4           0.2  Iris-setosa\n",
       "5   6            5.4           3.9            1.7           0.4  Iris-setosa\n",
       "6   7            4.6           3.4            1.4           0.3  Iris-setosa\n",
       "7   8            5.0           3.4            1.5           0.2  Iris-setosa\n",
       "8   9            4.4           2.9            1.4           0.2  Iris-setosa\n",
       "9  10            4.9           3.1            1.5           0.1  Iris-setosa"
      ]
     },
     "execution_count": 723,
     "metadata": {},
     "output_type": "execute_result"
    }
   ],
   "source": [
    "#Reading the csv file from the local folder and displaying top 10 values\n",
    "\n",
    "df = pd.read_csv(\"C:/Users/Dell/OneDrive/Documents/Iris.csv\",sep=',')\n",
    "df.head(10)"
   ]
  },
  {
   "cell_type": "code",
   "execution_count": 724,
   "metadata": {},
   "outputs": [
    {
     "data": {
      "text/plain": [
       "<seaborn.axisgrid.FacetGrid at 0x215dafb7b48>"
      ]
     },
     "execution_count": 724,
     "metadata": {},
     "output_type": "execute_result"
    },
    {
     "data": {
      "image/png": "[encoded data removed]",
      "text/plain": [
       "<Figure size 527.875x432 with 1 Axes>"
      ]
     },
     "metadata": {},
     "output_type": "display_data"
    }
   ],
   "source": [
    "#To visualize the dataset and the labels init wrt to features SepalLengthCm,PetalLengthCm\n",
    "\n",
    "import seaborn as sns\n",
    "sns.set_style(\"whitegrid\") \n",
    "sns.FacetGrid(df, hue =\"Species\",  \n",
    "              height = 6).map(plt.scatter,  \n",
    "                              'SepalLengthCm',  \n",
    "                              'PetalLengthCm').add_legend() \n"
   ]
  },
  {
   "cell_type": "code",
   "execution_count": 725,
   "metadata": {},
   "outputs": [
    {
     "name": "stdout",
     "output_type": "stream",
     "text": [
      "<class 'pandas.core.frame.DataFrame'>\n",
      "RangeIndex: 150 entries, 0 to 149\n",
      "Data columns (total 6 columns):\n",
      " #   Column         Non-Null Count  Dtype  \n",
      "---  ------         --------------  -----  \n",
      " 0   Id             150 non-null    int64  \n",
      " 1   SepalLengthCm  150 non-null    float64\n",
      " 2   SepalWidthCm   150 non-null    float64\n",
      " 3   PetalLengthCm  150 non-null    float64\n",
      " 4   PetalWidthCm   150 non-null    float64\n",
      " 5   Species        150 non-null    object \n",
      "dtypes: float64(4), int64(1), object(1)\n",
      "memory usage: 7.2+ KB\n"
     ]
    }
   ],
   "source": [
    "df.info()"
   ]
  },
  {
   "cell_type": "code",
   "execution_count": 726,
   "metadata": {},
   "outputs": [
    {
     "data": {
      "text/html": [
       "<div>\n",
       "<style scoped>\n",
       "    .dataframe tbody tr th:only-of-type {\n",
       "        vertical-align: middle;\n",
       "    }\n",
       "\n",
       "    .dataframe tbody tr th {\n",
       "        vertical-align: top;\n",
       "    }\n",
       "\n",
       "    .dataframe thead th {\n",
       "        text-align: right;\n",
       "    }\n",
       "</style>\n",
       "<table border=\"1\" class=\"dataframe\">\n",
       "  <thead>\n",
       "    <tr style=\"text-align: right;\">\n",
       "      <th></th>\n",
       "      <th>count</th>\n",
       "      <th>mean</th>\n",
       "      <th>std</th>\n",
       "      <th>min</th>\n",
       "      <th>25%</th>\n",
       "      <th>50%</th>\n",
       "      <th>75%</th>\n",
       "      <th>max</th>\n",
       "    </tr>\n",
       "  </thead>\n",
       "  <tbody>\n",
       "    <tr>\n",
       "      <th>Id</th>\n",
       "      <td>150.0</td>\n",
       "      <td>75.500000</td>\n",
       "      <td>43.445368</td>\n",
       "      <td>1.0</td>\n",
       "      <td>38.25</td>\n",
       "      <td>75.50</td>\n",
       "      <td>112.75</td>\n",
       "      <td>150.0</td>\n",
       "    </tr>\n",
       "    <tr>\n",
       "      <th>SepalLengthCm</th>\n",
       "      <td>150.0</td>\n",
       "      <td>5.843333</td>\n",
       "      <td>0.828066</td>\n",
       "      <td>4.3</td>\n",
       "      <td>5.10</td>\n",
       "      <td>5.80</td>\n",
       "      <td>6.40</td>\n",
       "      <td>7.9</td>\n",
       "    </tr>\n",
       "    <tr>\n",
       "      <th>SepalWidthCm</th>\n",
       "      <td>150.0</td>\n",
       "      <td>3.054000</td>\n",
       "      <td>0.433594</td>\n",
       "      <td>2.0</td>\n",
       "      <td>2.80</td>\n",
       "      <td>3.00</td>\n",
       "      <td>3.30</td>\n",
       "      <td>4.4</td>\n",
       "    </tr>\n",
       "    <tr>\n",
       "      <th>PetalLengthCm</th>\n",
       "      <td>150.0</td>\n",
       "      <td>3.758667</td>\n",
       "      <td>1.764420</td>\n",
       "      <td>1.0</td>\n",
       "      <td>1.60</td>\n",
       "      <td>4.35</td>\n",
       "      <td>5.10</td>\n",
       "      <td>6.9</td>\n",
       "    </tr>\n",
       "    <tr>\n",
       "      <th>PetalWidthCm</th>\n",
       "      <td>150.0</td>\n",
       "      <td>1.198667</td>\n",
       "      <td>0.763161</td>\n",
       "      <td>0.1</td>\n",
       "      <td>0.30</td>\n",
       "      <td>1.30</td>\n",
       "      <td>1.80</td>\n",
       "      <td>2.5</td>\n",
       "    </tr>\n",
       "  </tbody>\n",
       "</table>\n",
       "</div>"
      ],
      "text/plain": [
       "               count       mean        std  min    25%    50%     75%    max\n",
       "Id             150.0  75.500000  43.445368  1.0  38.25  75.50  112.75  150.0\n",
       "SepalLengthCm  150.0   5.843333   0.828066  4.3   5.10   5.80    6.40    7.9\n",
       "SepalWidthCm   150.0   3.054000   0.433594  2.0   2.80   3.00    3.30    4.4\n",
       "PetalLengthCm  150.0   3.758667   1.764420  1.0   1.60   4.35    5.10    6.9\n",
       "PetalWidthCm   150.0   1.198667   0.763161  0.1   0.30   1.30    1.80    2.5"
      ]
     },
     "execution_count": 726,
     "metadata": {},
     "output_type": "execute_result"
    }
   ],
   "source": [
    "# view summary statistics\n",
    "df.describe().T"
   ]
  },
  {
   "cell_type": "code",
   "execution_count": 727,
   "metadata": {},
   "outputs": [
    {
     "data": {
      "text/plain": [
       "Species\n",
       "Iris-setosa        50\n",
       "Iris-versicolor    50\n",
       "Iris-virginica     50\n",
       "dtype: int64"
      ]
     },
     "execution_count": 727,
     "metadata": {},
     "output_type": "execute_result"
    }
   ],
   "source": [
    "# Let’s now take a look at the number of instances (rows) that belong to each class.\n",
    "#We can view this as an absolute count.\n",
    "df.groupby('Species').size()"
   ]
  },
  {
   "cell_type": "code",
   "execution_count": 728,
   "metadata": {},
   "outputs": [],
   "source": [
    "#Sliting the data into train,develop and test datasets\n",
    "seed(0)\n",
    "train = df.sample(frac= 0.6, random_state =42)\n",
    "test_df = df.drop(train.index)\n",
    "test = test_df.sample(frac= 0.5, random_state =42)\n",
    "develop = test_df.drop(test.index)"
   ]
  },
  {
   "cell_type": "code",
   "execution_count": 729,
   "metadata": {},
   "outputs": [],
   "source": [
    "#Selecting features and labels arrays:\n",
    "X_train = train.iloc[:, 1:5].values\n",
    "y_train = train.iloc[:, 5].values\n",
    "X_develop = develop.iloc[:, 1:5].values\n",
    "y_develop = develop.iloc[:, 5].values\n",
    "X_test = test.iloc[:, 1:5].values\n",
    "y_test = test.iloc[:, 5].values"
   ]
  },
  {
   "cell_type": "code",
   "execution_count": 730,
   "metadata": {},
   "outputs": [],
   "source": [
    "#Label encoder to categorize the target values\n",
    "from sklearn import preprocessing\n",
    "from sklearn.preprocessing import LabelEncoder\n",
    "le = LabelEncoder()\n",
    "y_train = le.fit_transform(y_train)\n",
    "y_develop = le.fit_transform(y_develop)\n",
    "y_test = le.fit_transform(y_test)"
   ]
  },
  {
   "cell_type": "code",
   "execution_count": 731,
   "metadata": {},
   "outputs": [],
   "source": [
    "#Computes the euclidean distance\n",
    "\n",
    "def euclidean_distance(a,b):\n",
    "    distance=np.sqrt(np.dot(a-b,a-b))\n",
    "    return distance"
   ]
  },
  {
   "cell_type": "code",
   "execution_count": 732,
   "metadata": {},
   "outputs": [],
   "source": [
    "#Computes the normalized euclidean distance\n",
    "\n",
    "def normalized_euclidean_distance(a,b):\n",
    "    distance=0.5 *np.sqrt(np.dot(a-b,a-b))\n",
    "    return distance"
   ]
  },
  {
   "cell_type": "code",
   "execution_count": 733,
   "metadata": {},
   "outputs": [],
   "source": [
    "#Computes the cosine distance\n",
    "\n",
    "def cosine_distance(a,b):\n",
    "    distance=1-np.dot(a,b)/np.sqrt(np.dot(a,a)*np.dot(b,b))\n",
    "    return distance"
   ]
  },
  {
   "cell_type": "code",
   "execution_count": 734,
   "metadata": {},
   "outputs": [],
   "source": [
    "#KNN algorithm with the generalised metrics k and distance\n",
    "\n",
    "class KNearestNeighbors(object):\n",
    "    \n",
    "    def __init__(self,k,distance):\n",
    "        self.k=k\n",
    "        self.distance=distance\n",
    "        self.X_train=np.asarray([])\n",
    "        self.y_train=np.asarray([])\n",
    "        \n",
    "    def fit(self,X,y):\n",
    "        self.X_train=X\n",
    "        self.y_train=y\n",
    "        \n",
    "    def predict(self,X):\n",
    "        X=X.reshape((-1,self.X_train.shape[1]))\n",
    "        distances=np.zeros((X.shape[0],self.X_train.shape[0]))\n",
    "        for i,x in enumerate(X):\n",
    "            for j,x_train in enumerate(self.X_train):\n",
    "                distances[i,j]=self.distance(x_train,x)\n",
    "        sorted_indices=distances.argsort()[:,:self.k]\n",
    "        top_k = self.y_train[sorted_indices]  \n",
    "        result = np.zeros(X.shape[0])\n",
    "        for i, values in enumerate(top_k):\n",
    "            result[i] = Counter(values).most_common(1)[0][0]\n",
    "        return result"
   ]
  },
  {
   "cell_type": "code",
   "execution_count": 735,
   "metadata": {},
   "outputs": [],
   "source": [
    "# Calculate accuracy percentage between two lists\n",
    "def accuracy_metric(actual, predicted):\n",
    "    correct= 0\n",
    "    for i in range(len(actual)):\n",
    "        if actual[i] == predicted[i]:\n",
    "            correct += 1\n",
    "    return correct / float(len(actual)) * 100.0"
   ]
  },
  {
   "cell_type": "code",
   "execution_count": 736,
   "metadata": {},
   "outputs": [],
   "source": [
    "# Fitting clasifier to the Development set\n",
    "knn = KNearestNeighbors(1, euclidean_distance)\n",
    "knn.fit(X_train, y_train)"
   ]
  },
  {
   "cell_type": "code",
   "execution_count": 737,
   "metadata": {},
   "outputs": [],
   "source": [
    "# Predicting the Development and test data set results\n",
    "y_pred_develop = knn.predict(X_develop)\n",
    "y_pred_test = knn.predict(X_test)"
   ]
  },
  {
   "cell_type": "code",
   "execution_count": 738,
   "metadata": {},
   "outputs": [
    {
     "name": "stdout",
     "output_type": "stream",
     "text": [
      "Development data set Accuracy of k =1 and d = euclidean distance:90.0%\n"
     ]
    }
   ],
   "source": [
    "#Getting the Accuracy of the Development data set\n",
    "Dev_Accuracy=[]\n",
    "Dev_Accuracy = accuracy_metric(y_develop,y_pred_develop )\n",
    "print('Development data set Accuracy of k =1 and d = euclidean distance:'+repr(Dev_Accuracy)+'%')"
   ]
  },
  {
   "cell_type": "markdown",
   "metadata": {},
   "source": [
    "- This is the starting combination of the hyperparameters of k=1 and distance = euclidean distance, and below will check the given k values and its accuracy wrt to distance metrics"
   ]
  },
  {
   "cell_type": "code",
   "execution_count": 739,
   "metadata": {},
   "outputs": [
    {
     "name": "stdout",
     "output_type": "stream",
     "text": [
      "Development data set Accuracy of k = 3 and d = euclidean distance:93.33333333333333%\n"
     ]
    }
   ],
   "source": [
    "# Now calculating with hyperparameters of k=3 and distance = euclidean distance\n",
    "knn = KNearestNeighbors(3, euclidean_distance)\n",
    "knn.fit(X_train, y_train)\n",
    "y_pred_develop = knn.predict(X_develop)\n",
    "y_pred_test = knn.predict(X_test)\n",
    "Dev_Accuracy = accuracy_metric(y_develop, y_pred_develop)\n",
    "print('Development data set Accuracy of k = 3 and d = euclidean distance:'+repr(Dev_Accuracy)+'%')\n"
   ]
  },
  {
   "cell_type": "code",
   "execution_count": 740,
   "metadata": {},
   "outputs": [
    {
     "name": "stdout",
     "output_type": "stream",
     "text": [
      "Development data set Accuracy of k = 5 and d = euclidean distance:93.33333333333333%\n"
     ]
    }
   ],
   "source": [
    "# Now calculating with hyperparameters of k=5 and distance = euclidean distance\n",
    "knn = KNearestNeighbors(5, euclidean_distance)\n",
    "knn.fit(X_train, y_train)\n",
    "y_pred_develop = knn.predict(X_develop)\n",
    "y_pred_test = knn.predict(X_test)\n",
    "Dev_Accuracy = accuracy_metric(y_develop, y_pred_develop)\n",
    "print('Development data set Accuracy of k = 5 and d = euclidean distance:'+repr(Dev_Accuracy)+'%')"
   ]
  },
  {
   "cell_type": "code",
   "execution_count": 741,
   "metadata": {},
   "outputs": [
    {
     "name": "stdout",
     "output_type": "stream",
     "text": [
      "Development data set Accuracy of k = 7 and d = euclidean distance:93.33333333333333%\n"
     ]
    }
   ],
   "source": [
    "# Now calculating with hyperparameters of k=7 and distance = euclidean distance\n",
    "knn = KNearestNeighbors(7, euclidean_distance)\n",
    "knn.fit(X_train, y_train)\n",
    "y_pred_develop = knn.predict(X_develop)\n",
    "y_pred_test = knn.predict(X_test)\n",
    "Dev_Accuracy = accuracy_metric(y_develop, y_pred_develop)\n",
    "print('Development data set Accuracy of k = 7 and d = euclidean distance:'+repr(Dev_Accuracy)+'%')"
   ]
  },
  {
   "cell_type": "code",
   "execution_count": 742,
   "metadata": {},
   "outputs": [
    {
     "name": "stdout",
     "output_type": "stream",
     "text": [
      "Development data set Accuracy of k = 1 and d =  normalized_euclidean_distance:90.0%\n"
     ]
    }
   ],
   "source": [
    "# Now calculating with hyperparameters of k=1 and distance = normalized_euclidean_distance\n",
    "knn = KNearestNeighbors(1, normalized_euclidean_distance)\n",
    "knn.fit(X_train, y_train)\n",
    "y_pred_develop = knn.predict(X_develop)\n",
    "y_pred_test = knn.predict(X_test)\n",
    "Dev_Accuracy = accuracy_metric(y_develop, y_pred_develop)\n",
    "print('Development data set Accuracy of k = 1 and d =  normalized_euclidean_distance:'+repr(Dev_Accuracy)+'%')"
   ]
  },
  {
   "cell_type": "code",
   "execution_count": 743,
   "metadata": {},
   "outputs": [
    {
     "name": "stdout",
     "output_type": "stream",
     "text": [
      "Development data set Accuracy of k = 3 and d =  normalized_euclidean_distance:93.33333333333333%\n"
     ]
    }
   ],
   "source": [
    "# Now calculating with hyperparameters of k=3 and distance = normalized_euclidean_distance\n",
    "knn = KNearestNeighbors(3, normalized_euclidean_distance)\n",
    "knn.fit(X_train, y_train)\n",
    "y_pred_develop = knn.predict(X_develop)\n",
    "y_pred_test = knn.predict(X_test)\n",
    "Dev_Accuracy = accuracy_metric(y_develop, y_pred_develop)\n",
    "print('Development data set Accuracy of k = 3 and d =  normalized_euclidean_distance:'+repr(Dev_Accuracy)+'%')"
   ]
  },
  {
   "cell_type": "code",
   "execution_count": 744,
   "metadata": {},
   "outputs": [
    {
     "name": "stdout",
     "output_type": "stream",
     "text": [
      "Development data set Accuracy of k = 5 and d =  normalized_euclidean_distance:93.33333333333333%\n"
     ]
    }
   ],
   "source": [
    "# Now calculating with hyperparameters of k=5 and distance = normalized_euclidean_distance\n",
    "knn = KNearestNeighbors(5, normalized_euclidean_distance)\n",
    "knn.fit(X_train, y_train)\n",
    "y_pred_develop = knn.predict(X_develop)\n",
    "y_pred_test = knn.predict(X_test)\n",
    "Dev_Accuracy = accuracy_metric(y_develop, y_pred_develop)\n",
    "print('Development data set Accuracy of k = 5 and d =  normalized_euclidean_distance:'+repr(Dev_Accuracy)+'%')"
   ]
  },
  {
   "cell_type": "code",
   "execution_count": 745,
   "metadata": {},
   "outputs": [
    {
     "name": "stdout",
     "output_type": "stream",
     "text": [
      "Development data set Accuracy of k = 7 and d =  normalized_euclidean_distance:93.33333333333333%\n"
     ]
    }
   ],
   "source": [
    "# Now calculating with hyperparameters of k=7 and distance = normalized_euclidean_distance\n",
    "knn = KNearestNeighbors(7, normalized_euclidean_distance)\n",
    "knn.fit(X_train, y_train)\n",
    "y_pred_develop = knn.predict(X_develop)\n",
    "y_pred_test = knn.predict(X_test)\n",
    "Dev_Accuracy = accuracy_metric(y_develop, y_pred_develop)\n",
    "print('Development data set Accuracy of k = 7 and d =  normalized_euclidean_distance:'+repr(Dev_Accuracy)+'%')"
   ]
  },
  {
   "cell_type": "code",
   "execution_count": 746,
   "metadata": {},
   "outputs": [
    {
     "name": "stdout",
     "output_type": "stream",
     "text": [
      "Development data set Accuracy of k = 1 and d =  cosine_distance:96.66666666666667%\n"
     ]
    }
   ],
   "source": [
    "# Now calculating with hyperparameters of k=1 and distance = cosine_distance\n",
    "knn = KNearestNeighbors(1, cosine_distance)\n",
    "knn.fit(X_train, y_train)\n",
    "y_pred_develop = knn.predict(X_develop)\n",
    "y_pred_test = knn.predict(X_test)\n",
    "Dev_Accuracy = accuracy_metric(y_develop, y_pred_develop)\n",
    "print('Development data set Accuracy of k = 1 and d =  cosine_distance:'+repr(Dev_Accuracy)+'%')"
   ]
  },
  {
   "cell_type": "code",
   "execution_count": 747,
   "metadata": {},
   "outputs": [
    {
     "name": "stdout",
     "output_type": "stream",
     "text": [
      "Development data set Accuracy of k = 3 and d =  cosine_distance:96.66666666666667%\n"
     ]
    }
   ],
   "source": [
    "# Now calculating with hyperparameters of k=3 and distance = cosine_distance\n",
    "knn = KNearestNeighbors(3, cosine_distance)\n",
    "knn.fit(X_train, y_train)\n",
    "y_pred_develop = knn.predict(X_develop)\n",
    "y_pred_test = knn.predict(X_test)\n",
    "Dev_Accuracy = accuracy_metric(y_develop, y_pred_develop)\n",
    "print('Development data set Accuracy of k = 3 and d =  cosine_distance:'+repr(Dev_Accuracy)+'%')"
   ]
  },
  {
   "cell_type": "code",
   "execution_count": 748,
   "metadata": {},
   "outputs": [
    {
     "name": "stdout",
     "output_type": "stream",
     "text": [
      "Development data set Accuracy of k = 5 and d =  cosine_distance:96.66666666666667%\n"
     ]
    }
   ],
   "source": [
    "# Now calculating with hyperparameters of k=5 and distance = cosine_distance\n",
    "knn = KNearestNeighbors(5, cosine_distance)\n",
    "knn.fit(X_train, y_train)\n",
    "y_pred_develop = knn.predict(X_develop)\n",
    "y_pred_test = knn.predict(X_test)\n",
    "Dev_Accuracy = accuracy_metric(y_develop, y_pred_develop)\n",
    "print('Development data set Accuracy of k = 5 and d =  cosine_distance:'+repr(Dev_Accuracy)+'%')"
   ]
  },
  {
   "cell_type": "code",
   "execution_count": 749,
   "metadata": {},
   "outputs": [
    {
     "name": "stdout",
     "output_type": "stream",
     "text": [
      "Development data set Accuracy of k = 7 and d =  cosine_distance:96.66666666666667%\n"
     ]
    }
   ],
   "source": [
    "# Now calculating with hyperparameters of k=7 and distance = cosine_distance\n",
    "knn = KNearestNeighbors(7, cosine_distance)\n",
    "knn.fit(X_train, y_train)\n",
    "y_pred_develop = knn.predict(X_develop)\n",
    "y_pred_test = knn.predict(X_test)\n",
    "Dev_Accuracy = accuracy_metric(y_develop, y_pred_develop)\n",
    "print('Development data set Accuracy of k = 7 and d =  cosine_distance:'+repr(Dev_Accuracy)+'%')"
   ]
  },
  {
   "cell_type": "code",
   "execution_count": 750,
   "metadata": {},
   "outputs": [
    {
     "data": {
      "image/png": "[encoded data removed]",
      "text/plain": [
       "<Figure size 1080x360 with 1 Axes>"
      ]
     },
     "metadata": {},
     "output_type": "display_data"
    }
   ],
   "source": [
    "# I am taking the values of all the accuaricies and plotting them wrt to k and distance metrics\n",
    "\n",
    "labels = ['1', '3', '5', '7']\n",
    "euclidean_accuracy = [90, 93.33, 93.33,93.33]\n",
    "normalized_euclidean_accuracy = [90, 93.33, 93.33,93.33]\n",
    "cosine_accuracy = [96.66, 96.66, 96.66, 96.66]\n",
    "x = np.arange(len(labels))  \n",
    "width =0.2 \n",
    "\n",
    "fig, ax = plt.subplots(figsize=(15, 5))\n",
    "rects1 = ax.bar(x - width, euclidean_accuracy, width, label='euclidean_accuracy')\n",
    "rects2 = ax.bar(x, normalized_euclidean_accuracy, width, label='normalized_euclidean_accuracy')\n",
    "rects3 = ax.bar(x + width, cosine_accuracy, width, label='cosine_accuracy')\n",
    "ax.set_ylabel('Accuracy')\n",
    "ax.set_xlabel('K')\n",
    "ax.set_title('Accuracy of KNN With the kvalues')\n",
    "ax.set_xticks(x)\n",
    "ax.set_xticklabels(labels)\n",
    "ax.legend()\n",
    "\n",
    "\n",
    "def autolabel(rects):\n",
    "    \"\"\"Attach a text label above each bar in *rects*, displaying its height.\"\"\"\n",
    "    for rect in rects:\n",
    "        height = rect.get_height()\n",
    "        ax.annotate('{}'.format(height),\n",
    "                    xy=(rect.get_x() + rect.get_width() / 2, height),\n",
    "                    xytext=(0, 3), \n",
    "                    textcoords=\"offset points\",\n",
    "                    ha='center', va='bottom')\n",
    "\n",
    "\n",
    "autolabel(rects1)\n",
    "autolabel(rects2)\n",
    "autolabel(rects3)\n",
    "\n",
    "\n",
    "fig.tight_layout()\n",
    "\n",
    "plt.show()\n"
   ]
  },
  {
   "cell_type": "markdown",
   "metadata": {},
   "source": [
    "#### _Analysis_ :-\n",
    "\n",
    "- KMetrics :- optimal value of k would be = 5, From the above barchart, we can understand that my model more consistent\n",
    "  from k=3 and there shouldn't be any overfit with small k values and underfit with higher values of k, i will consider k=5 as the optimal parameter.\n",
    "  \n",
    "  \n",
    "- Distance Metric:- Cosine distance measure would be optimal, As we seen from the graph cosine metrics gave me better and   \n",
    "  consistent values compared to the euclidean and normalized euclidean distance..\n",
    "\n",
    "- Optimal Hyper parameters are k=5, and Cosine Distance\n",
    "    "
   ]
  },
  {
   "cell_type": "code",
   "execution_count": 752,
   "metadata": {},
   "outputs": [
    {
     "name": "stdout",
     "output_type": "stream",
     "text": [
      "Final Test data set Accuracy:96.66666666666667%\n"
     ]
    }
   ],
   "source": [
    "#calculating test accuracy with optimal hyperparameters of above observation of k=5 and distance = cosine_distance\n",
    "knn = KNearestNeighbors(5, cosine_distance)\n",
    "knn.fit(X_train, y_train)\n",
    "y_pred_develop = knn.predict(X_develop)\n",
    "y_pred_test = knn.predict(X_test)\n",
    "#Getting the Accuracy of the test dataset\n",
    "Final_Test_Accuracy = accuracy_metric(y_test,y_pred_test)\n",
    "print('Final Test data set Accuracy:'+repr(Final_Test_Accuracy)+'%')"
   ]
  },
  {
   "cell_type": "markdown",
   "metadata": {},
   "source": [
    "#### _Final Accuracy_ :\n",
    "- Final test accuracy for the test data is 96.66666666666667%, which says that our performence is consistent on test data as it   gave me same accuracy of developement data set for the optimal parameters of developementset"
   ]
  }
 ],
 "metadata": {
  "kernelspec": {
   "display_name": "Python 3",
   "language": "python",
   "name": "python3"
  },
  "language_info": {
   "codemirror_mode": {
    "name": "ipython",
    "version": 3
   },
   "file_extension": ".py",
   "mimetype": "text/x-python",
   "name": "python",
   "nbconvert_exporter": "python",
   "pygments_lexer": "ipython3",
   "version": "3.7.6"
  }
 },
 "nbformat": 4,
 "nbformat_minor": 4
}
